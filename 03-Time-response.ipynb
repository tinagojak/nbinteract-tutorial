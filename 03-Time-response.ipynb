{
 "cells": [
  {
   "cell_type": "code",
   "execution_count": 1,
   "metadata": {},
   "outputs": [],
   "source": [
    "# Erasmus+ ICCT project (2018-1-SI01-KA203-047081)\n",
    "\n",
    "import matplotlib.pyplot as plt\n",
    "import numpy as np\n",
    "import sympy as sym\n",
    "import scipy\n",
    "from ipywidgets import interact\n",
    "from ipywidgets import interactive\n",
    "import ipywidgets as widgets"
   ]
  },
  {
   "cell_type": "code",
   "execution_count": 2,
   "metadata": {},
   "outputs": [],
   "source": [
    "# define symbolic variables\n",
    "s, ts, a, b, tau = sym.symbols(['s', 'ts', 'a', 'b', 'tau'])"
   ]
  },
  {
   "cell_type": "code",
   "execution_count": 3,
   "metadata": {},
   "outputs": [],
   "source": [
    "# define symbolc equations\n",
    "Xs = b/s*sym.exp(-tau*s)\n",
    "Ys = b/(s*(s+a))*sym.exp(-tau*s)"
   ]
  },
  {
   "cell_type": "code",
   "execution_count": 4,
   "metadata": {},
   "outputs": [],
   "source": [
    "# perform inverse Laplace transformation\n",
    "xs = sym.inverse_laplace_transform(Xs,s,ts)\n",
    "ys = sym.inverse_laplace_transform(Ys,s,ts)"
   ]
  },
  {
   "cell_type": "code",
   "execution_count": 5,
   "metadata": {},
   "outputs": [],
   "source": [
    "# show results\n",
    "def figure(a_v=1, b_v=1, tau_v=1):\n",
    "    t=np.arange(-1.0, 10.0, 0.05)\n",
    "    subs = {a: a_v, b: b_v, tau: tau_v}\n",
    "    x = np.array([xs.subs(subs).subs(ts, _).evalf() for _ in t])\n",
    "    y = np.array([ys.subs(subs).subs(ts, _).evalf() for _ in t])\n",
    "    f, axarr = plt.subplots(2, sharex=True)\n",
    "    axarr[0].plot(t, x)\n",
    "    axarr[0].set_title('Time response')\n",
    "    axarr[1].plot(t, y)\n",
    "    plt.show()"
   ]
  },
  {
   "cell_type": "code",
   "execution_count": 6,
   "metadata": {},
   "outputs": [
    {
     "data": {
      "application/vnd.jupyter.widget-view+json": {
       "model_id": "0af38bfcaf69462b877f405fdfb8555a",
       "version_major": 2,
       "version_minor": 0
      },
      "text/plain": [
       "interactive(children=(FloatSlider(value=1.0, description='a_v', max=2.5), FloatSlider(value=1.0, description='…"
      ]
     },
     "metadata": {},
     "output_type": "display_data"
    }
   ],
   "source": [
    "interact(figure, a_v=(0.0,2.5,0.1), b_v=(0.5,5.0,0.25), tau_v=(-0.1,2.0));"
   ]
  },
  {
   "cell_type": "code",
   "execution_count": null,
   "metadata": {},
   "outputs": [],
   "source": []
  },
  {
   "cell_type": "code",
   "execution_count": null,
   "metadata": {},
   "outputs": [],
   "source": []
  }
 ],
 "metadata": {
  "kernelspec": {
   "display_name": "Python 3",
   "language": "python",
   "name": "python3"
  },
  "language_info": {
   "codemirror_mode": {
    "name": "ipython",
    "version": 3
   },
   "file_extension": ".py",
   "mimetype": "text/x-python",
   "name": "python",
   "nbconvert_exporter": "python",
   "pygments_lexer": "ipython3",
   "version": "3.6.7"
  }
 },
 "nbformat": 4,
 "nbformat_minor": 2
}
