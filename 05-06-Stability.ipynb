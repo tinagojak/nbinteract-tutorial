{
 "cells": [
  {
   "cell_type": "code",
   "execution_count": 1,
   "metadata": {},
   "outputs": [],
   "source": [
    "# Erasmus+ ICCT project (2018-1-SI01-KA203-047081)\n",
    "\n",
    "import sympy as sp # Symbolic Python\n",
    "import numpy as np # Arrays, matrices and corresponding mathematical operations\n",
    "from IPython.display import Latex, display, Markdown # For displaying Markdown and LaTeX code\n",
    "from ipywidgets import widgets # Interactivity module\n",
    "\n",
    "# Function for the conversion of array/matrix to LaTeX/Markdown format.\n",
    "def vmatrix(a):\n",
    "    if len(a.shape) > 2:\n",
    "         raise ValueError('bmatrix can at most display two dimensions')\n",
    "    lines = str(a).replace('[', '').replace(']', '').splitlines()\n",
    "    rv = [r'\\begin{vmatrix}']\n",
    "    rv += ['  ' + ' & '.join(l.split()) + r'\\\\' for l in lines]\n",
    "    rv +=  [r'\\end{vmatrix}']\n",
    "    return '\\n'.join(rv)"
   ]
  },
  {
   "cell_type": "markdown",
   "metadata": {},
   "source": [
    "In order to check the stability of the system, please define the characteristic polynomial by inserting its order and corresponding coefficients."
   ]
  },
  {
   "cell_type": "code",
   "execution_count": 2,
   "metadata": {
    "scrolled": true
   },
   "outputs": [
    {
     "name": "stdout",
     "output_type": "stream",
     "text": [
      "Insert the order of the characteristic polynomial:2\n"
     ]
    },
    {
     "data": {
      "text/markdown": [
       "Please insert the coefficients of the characteristic polynomial. Use K for undefined coefficient."
      ],
      "text/plain": [
       "<IPython.core.display.Markdown object>"
      ]
     },
     "metadata": {},
     "output_type": "display_data"
    },
    {
     "data": {
      "application/vnd.jupyter.widget-view+json": {
       "model_id": "56f9d8736a9f44b49aa42fb49e112070",
       "version_major": 2,
       "version_minor": 0
      },
      "text/plain": [
       "Text(value='', description='s2')"
      ]
     },
     "metadata": {},
     "output_type": "display_data"
    },
    {
     "data": {
      "application/vnd.jupyter.widget-view+json": {
       "model_id": "e566b82a804545318814769a8f9435cd",
       "version_major": 2,
       "version_minor": 0
      },
      "text/plain": [
       "Text(value='', description='s1')"
      ]
     },
     "metadata": {},
     "output_type": "display_data"
    },
    {
     "data": {
      "application/vnd.jupyter.widget-view+json": {
       "model_id": "39f800d4452c458c8dfe0b508cd7862a",
       "version_major": 2,
       "version_minor": 0
      },
      "text/plain": [
       "Text(value='', description='s0')"
      ]
     },
     "metadata": {},
     "output_type": "display_data"
    },
    {
     "data": {
      "application/vnd.jupyter.widget-view+json": {
       "model_id": "1e914ecbbbdc455a896435ecfb78c372",
       "version_major": 2,
       "version_minor": 0
      },
      "text/plain": [
       "Button(description='Confirm', style=ButtonStyle())"
      ]
     },
     "metadata": {},
     "output_type": "display_data"
    }
   ],
   "source": [
    "polynomialOrder = input (\"Insert the order of the characteristic polynomial:\")\n",
    "try:\n",
    "    val = int(polynomialOrder)\n",
    "except ValueError:\n",
    "    display(Markdown('Order of the polynomial has to be an integer. Please re-enter the value.+'))\n",
    "display(Markdown('Please insert the coefficients of the characteristic polynomial. Use K for undefined coefficient.'))\n",
    "text=[None]*(int(polynomialOrder)+1)\n",
    "for i in range(int(polynomialOrder)+1):\n",
    "    text[i]=widgets.Text(description=('s%i'%(-(i-int(polynomialOrder)))))\n",
    "    display(text[i])\n",
    "btn=widgets.Button(description=\"Confirm\")\n",
    "display(btn)\n",
    "coef=[None]*(int(polynomialOrder)+1)\n",
    "def on_button_clicked(btn):\n",
    "    for i in range(int(polynomialOrder)+1):\n",
    "        if text[i].value=='' or text[i].value=='Please insert a coefficient':\n",
    "            text[i].value='Please insert a coefficient'\n",
    "        else:\n",
    "            try:\n",
    "                coef[i]=float(text[i].value)\n",
    "            except ValueError:\n",
    "                if text[i].value!='' or text[i].value!='Please insert a coefficient':\n",
    "                    coef[i]=sp.var(text[i].value)\n",
    "btn.on_click(on_button_clicked)"
   ]
  },
  {
   "cell_type": "code",
   "execution_count": 3,
   "metadata": {},
   "outputs": [
    {
     "data": {
      "text/markdown": [
       "The characteristic polynomial of interest is:"
      ],
      "text/plain": [
       "<IPython.core.display.Markdown object>"
      ]
     },
     "metadata": {},
     "output_type": "display_data"
    },
    {
     "data": {
      "text/markdown": [
       "$1.0s^2+Ks+2.0$"
      ],
      "text/plain": [
       "<IPython.core.display.Markdown object>"
      ]
     },
     "metadata": {},
     "output_type": "display_data"
    }
   ],
   "source": [
    "coef.reverse()\n",
    "enacba=\"$\"\n",
    "for i in range (int(polynomialOrder),-1,-1):\n",
    "    if i==int(polynomialOrder):\n",
    "        enacba=enacba+str(coef[i])+\"s^\"+str(i)\n",
    "    elif i==1:\n",
    "        enacba=enacba+\"+\"+str(coef[i])+\"s\"\n",
    "    elif i==0:\n",
    "        enacba=enacba+\"+\"+str(coef[i])+\"$\"\n",
    "    else:\n",
    "        enacba=enacba+\"+\"+str(coef[i])+\"s^\"+str(i)\n",
    "coef.reverse()\n",
    "display(Markdown('The characteristic polynomial of interest is:'), Markdown(enacba))"
   ]
  },
  {
   "cell_type": "markdown",
   "metadata": {},
   "source": [
    "Would you like to use Routh or Hurwitz criterion to check the stability?"
   ]
  },
  {
   "cell_type": "code",
   "execution_count": 4,
   "metadata": {},
   "outputs": [
    {
     "data": {
      "application/vnd.jupyter.widget-view+json": {
       "model_id": "5b824c17496b42908cb11422b6e05beb",
       "version_major": 2,
       "version_minor": 0
      },
      "text/plain": [
       "Select(description='Select:', options=('Please select...', 'Routh', 'Hurwitz'), rows=3, value='Please select..…"
      ]
     },
     "metadata": {},
     "output_type": "display_data"
    }
   ],
   "source": [
    "w=widgets.Select(\n",
    "    options=['Please select...','Routh', 'Hurwitz'],\n",
    "    value='Please select...',\n",
    "    rows=3,\n",
    "    description='Select:',\n",
    "    disabled=False\n",
    ")\n",
    "display(w)"
   ]
  },
  {
   "cell_type": "code",
   "execution_count": 7,
   "metadata": {},
   "outputs": [
    {
     "data": {
      "text/markdown": [
       "$\\Delta_{1}=$$\\begin{vmatrix}\n",
       "  K\\\\\n",
       "\\end{vmatrix}$$=K$"
      ],
      "text/plain": [
       "<IPython.core.display.Markdown object>"
      ]
     },
     "metadata": {},
     "output_type": "display_data"
    },
    {
     "data": {
      "text/markdown": [
       "$\\Delta_{2}=$$\\begin{vmatrix}\n",
       "  K & 0\\\\\n",
       "  1.0 & 0\\\\\n",
       "\\end{vmatrix}$$=0$"
      ],
      "text/plain": [
       "<IPython.core.display.Markdown object>"
      ]
     },
     "metadata": {},
     "output_type": "display_data"
    },
    {
     "data": {
      "text/markdown": [
       "System is stable, for:"
      ],
      "text/plain": [
       "<IPython.core.display.Markdown object>"
      ]
     },
     "metadata": {},
     "output_type": "display_data"
    },
    {
     "name": "stdout",
     "output_type": "stream",
     "text": [
      "[(0 < K) & (K < oo)]\n"
     ]
    }
   ],
   "source": [
    "K=sp.Symbol('K');\n",
    "# Check if selected stability criterion is Routh or Hurwitz.\n",
    "if w.value=='Please select...':\n",
    "    raise ValueError('Please select the Routh or Hurwitz stability criterion.')\n",
    "\n",
    "elif w.value=='Routh':\n",
    "    \n",
    "    s=np.zeros([len(coef),3],dtype=object)\n",
    "    for i in range(3):\n",
    "        try:\n",
    "            s[0,i]=coef[i*2]\n",
    "            s[1,i]=coef[i*2+1]\n",
    "        except IndexError:\n",
    "            s[0,i]=0\n",
    "            s[1,i]=0\n",
    "    for i in range(len(coef)-2):\n",
    "        for j in range(2):\n",
    "            if j==0:\n",
    "                s[i+2,j]=(s[i+1,j]*s[i,j+1]-s[i,j]*s[i+1,j+1])/s[i+1,j]\n",
    "            elif j==1:\n",
    "                s[i+2,j]=(s[i+1,j-1]*s[i,j+1]-s[i,j-1]*s[i+1,j+1])/s[i+1,j-1]\n",
    "                \n",
    "    if all(isinstance(x, (int,float)) for x in coef):\n",
    "        positive_check=s[:,0]>0\n",
    "        negative_check=s[:,0]<0\n",
    "        if all(positive_check)==True:\n",
    "            display(Markdown('System is stable, because all the elements in the first column of the Routh table are positive.'))\n",
    "        elif all(negative_check)==True:\n",
    "            display(Markdown('System is stable, because all the elements in the first column of the Routh table are negative.'))\n",
    "        else:\n",
    "            display(Markdown('System is unstable, because the elements in the first column of the Routh table do not have the same sign.'))\n",
    "        display(Markdown('Routh table $%s$' % vmatrix(s)))\n",
    "    else:\n",
    "        testSign=[]\n",
    "        for i in range(len(s)):\n",
    "            if isinstance(s[i,0],(int,float)):\n",
    "                testSign.append(s[i,0]>0)\n",
    "        solution=[]\n",
    "        if all(elem == True for elem in testSign):\n",
    "            for x in s[:,0]:\n",
    "                if not isinstance(x,(sp.numbers.Integer,sp.numbers.Float,int,float)):\n",
    "                    solution.append(sp.solve(x>0,K)) # Define the solution for each value of the determinant\n",
    "            display(Markdown('Routh table $%s$' % vmatrix(s)))\n",
    "            display(Markdown('All the known coefficients in the first column of Routh table are positive, therefore the system is stable for:'))\n",
    "            print(solution)            \n",
    "        elif all(elem == False for elem in test):\n",
    "            for x in s[:,0]:\n",
    "                if not isinstance(x,(sp.numbers.Integer,sp.numbers.Float,int,float)):\n",
    "                    solution.append(sp.solve(x<0,K)) # Define the solution for each value of the determinant\n",
    "            display(Markdown('Routh table $%s$' % vmatrix(s)))\n",
    "            display(Markdown('All the known coefficients in the first column of Routh table are negative, therefore the system is stable for:'))\n",
    "            print(solution)\n",
    "        else:\n",
    "            display(Markdown('Routh table $%s$' % vmatrix(s)))\n",
    "            display(Markdown('System is unstable, beacuse the signs of the coefficients in the first column differ between each other.'))\n",
    "        \n",
    "        \n",
    "\n",
    "elif w.value=='Hurwitz':\n",
    "    \n",
    "    # Check if all the coefficients are numbers or not and preallocate basic determinant.\n",
    "\n",
    "    if all(isinstance(x, (int,float)) for x in coef):\n",
    "        determinant=np.zeros([len(coef)-1,len(coef)-1])\n",
    "    else:\n",
    "        determinant=np.zeros([len(coef)-1,len(coef)-1],dtype=object)\n",
    "\n",
    "    # Define the first two rows of the basic determinant.    \n",
    "    for i in range(len(coef)-1):\n",
    "        try:\n",
    "            determinant[0,i]=coef[2*i+1]\n",
    "            determinant[1,i]=coef[2*i]\n",
    "        except:\n",
    "            determinant[0,i]=0\n",
    "            determinant[1,i]=0\n",
    "    # Define the remaining rows of the basic determinant by shifting the first two rows.        \n",
    "    for i in range(2,len(coef)-1):\n",
    "        determinant[i,:]=np.roll(determinant[i-2,:],1)\n",
    "        determinant[2:,0]=0\n",
    "\n",
    "    # Define all the subdeterminants.\n",
    "    subdet=[];\n",
    "    for i in range(len(determinant)-1):\n",
    "        subdet.append(determinant[0:i+1,0:i+1])\n",
    "\n",
    "    # Append the basic determinant to the subdeterminants' array.\n",
    "    subdet.append(determinant)\n",
    "\n",
    "    # Check if all coefficients are numbers.\n",
    "    if all(isinstance(x, (int,float)) for x in coef):\n",
    "        det_value=[] # Preallocate array containing values of all determinants.\n",
    "        for i in range(len(subdet)):\n",
    "            det_value.append(np.linalg.det(subdet[i])); # Calculate determinant and append the values to det_value.\n",
    "\n",
    "        if all(i > 0 for i in det_value)==True: # Check if all values in det_value are positive or not.\n",
    "            display(Markdown('System is stable, because all the determinants are positive.'))\n",
    "            for i in range(len(subdet)):\n",
    "                display(Markdown('$\\Delta_{%i}=$'%(i+1) + '$%s$' %vmatrix(subdet[i]) + '$=%s$' %det_value[i]))\n",
    "        else:\n",
    "            display(Markdown('System is unstable, because all the determinants are not positive.'))\n",
    "            for i in range(len(subdet)):\n",
    "                display(Markdown('$\\Delta_{%i}=$'%(i+1) + '$%s$' %vmatrix(subdet[i]) + '$=%s$' %det_value[i]))\n",
    "    else:\n",
    "        subdetSym=[] # Preallocate subdetSym.\n",
    "        det_value=[] # Preallocate det_value.\n",
    "        solution=[] # Preallocate solution.\n",
    "        for i in subdet:\n",
    "            subdetSym.append(sp.Matrix(i)) # Transform matrix subdet to symbolic.\n",
    "        for i in range(len(subdetSym)):\n",
    "            det_value.append(subdetSym[i].det()) # Calculate the value of the determinant.\n",
    "        testSign=[]\n",
    "        for i in range(len(det_value)):\n",
    "            if isinstance(s[i,0],(int,float,sp.numbers.Integer,sp.numbers.Float)):\n",
    "                testSign.append(s[i,0]>0)\n",
    "        if all(elem == True for elem in testSign):\n",
    "            solution=[]\n",
    "            for x in det_value:\n",
    "                if not isinstance(x,(sp.numbers.Integer,sp.numbers.Float,int,float)):\n",
    "                    solution.append(sp.solve(x>0,K)) # Define the solution for each value of the determinant\n",
    "            for i in range(len(subdet)):\n",
    "                display(Markdown('$\\Delta_{%i}=$'%(i+1) + '$%s$' %vmatrix(subdet[i]) + '$=%s$' %det_value[i]))\n",
    "            display(Markdown('System is stable, for:'))\n",
    "            print(solution)    \n",
    "            \n",
    "        else:\n",
    "            display(Markdown('System is unstable, because all the determinants are not positive.'))\n",
    "            for i in range(len(subdet)):\n",
    "                display(Markdown('$\\Delta_{%i}=$'%(i+1) + '$%s$' %vmatrix(subdet[i]) + '$=%s$' %det_value[i]))\n",
    "        \n",
    "        "
   ]
  },
  {
   "cell_type": "code",
   "execution_count": null,
   "metadata": {},
   "outputs": [],
   "source": []
  }
 ],
 "metadata": {
  "kernelspec": {
   "display_name": "Python 3",
   "language": "python",
   "name": "python3"
  },
  "language_info": {
   "codemirror_mode": {
    "name": "ipython",
    "version": 3
   },
   "file_extension": ".py",
   "mimetype": "text/x-python",
   "name": "python",
   "nbconvert_exporter": "python",
   "pygments_lexer": "ipython3",
   "version": "3.7.1"
  }
 },
 "nbformat": 4,
 "nbformat_minor": 2
}
