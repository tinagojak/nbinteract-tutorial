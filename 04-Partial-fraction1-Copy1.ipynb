{
 "cells": [
  {
   "cell_type": "code",
   "execution_count": null,
   "metadata": {},
   "outputs": [],
   "source": [
    "# Erasmus+ ICCT project (2018-1-SI01-KA203-047081)\n",
    "\n",
    "# Examples: \n",
    "# Factored form: 1/(x**2*(x**2 + 1))\n",
    "# Expanded form: 1/(x**4+x**2)\n",
    "\n",
    "import sympy as sym\n",
    "from IPython.display import Latex, display, Markdown\n",
    "from ipywidgets import widgets, Layout # Interactivity module\n",
    "\n",
    "f = sym.sympify(input('Insert the function:'))\n",
    "x = sym.Symbol('x')\n",
    "\n",
    "if f==sym.factor(f):\n",
    "    display(Markdown('Input function ($%s$) is written in a factored form. ' %sym.latex(f) + 'Its expanded form is $%s$.' %sym.latex(sym.expand(f))))\n",
    "else:\n",
    "    display(Markdown('Input function ($%s$) is written in an expanded form. ' %sym.latex(f) + 'Its factored form is $%s$.' %sym.latex(sym.factor(f))))\n",
    "\n",
    "display(Markdown('The result of the partial fraction decomposition is: $%s$' %sym.latex(sym.apart(f)) + '.'))"
   ]
  },
  {
   "cell_type": "code",
   "execution_count": null,
   "metadata": {},
   "outputs": [],
   "source": [
    "a = widgets.IntSlider()\n",
    "ui = widgets.HBox([a])\n",
    "def f(a):\n",
    "    tf=sym.sympify((a*x**2+1)/(x**2*(x**2 + 1)))           \n",
    "    display(Markdown('The result of the partial fraction decomposition of the function $%s$ ' %sym.latex(tf) + 'is: $%s$' %sym.latex(sym.apart(tf)) + '.'))\n",
    "\n",
    "out = widgets.interactive_output(f, {'a': a})\n",
    "display(ui, out)"
   ]
  },
  {
   "cell_type": "code",
   "execution_count": null,
   "metadata": {},
   "outputs": [],
   "source": []
  },
  {
   "cell_type": "code",
   "execution_count": null,
   "metadata": {},
   "outputs": [],
   "source": []
  }
 ],
 "metadata": {
  "kernelspec": {
   "display_name": "Python 3",
   "language": "python",
   "name": "python3"
  },
  "language_info": {
   "codemirror_mode": {
    "name": "ipython",
    "version": 3
   },
   "file_extension": ".py",
   "mimetype": "text/x-python",
   "name": "python",
   "nbconvert_exporter": "python",
   "pygments_lexer": "ipython3",
   "version": "3.6.7"
  }
 },
 "nbformat": 4,
 "nbformat_minor": 2
}
