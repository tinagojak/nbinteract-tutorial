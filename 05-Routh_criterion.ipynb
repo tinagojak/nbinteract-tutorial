{
 "cells": [
  {
   "cell_type": "code",
   "execution_count": 1,
   "metadata": {},
   "outputs": [],
   "source": [
    "# Erasmus+ ICCT project (2018-1-SI01-KA203-047081)\n",
    "\n",
    "import numpy as np"
   ]
  },
  {
   "cell_type": "code",
   "execution_count": 2,
   "metadata": {},
   "outputs": [],
   "source": [
    "def print_routh(transfer_func, transfer_order, routh_table, stability, marginally_stable):\n",
    "    print('TRANSFER FUNCTION (DENOMINATOR):\\n')\n",
    "    for i in range(transfer_order+1):\n",
    "        print('%5.2f s^%d' %(transfer_func[i],transfer_order-i), end='')\n",
    "        if i != transfer_order:\n",
    "            print(' + ', end='')\n",
    "    print('\\n')\n",
    "    print('ROUTH TABLE:')\n",
    "    print('______', end='')\n",
    "    print('_______'*int(transfer_order/2+1))\n",
    "    for i in range(transfer_order+1):\n",
    "        print('s^%d:' %(transfer_order-i), end='')\n",
    "        for j in range(len(routh_table[0])):\n",
    "            print('|%6.2f'%routh_table[i, j], end='')\n",
    "        print('\\n', end='')\n",
    "        print('______', end='')\n",
    "        print('_______'*int(transfer_order/2+1))\n",
    "    print('')\n",
    "    if stability == True:\n",
    "        print('SYSTEM IS STABLE')\n",
    "    elif stability == False and marginally_stable == False:\n",
    "        print('X SYSTEM IS UNSTABLE')\n",
    "    else:\n",
    "        print('X SYSTEM IS UNSTABLE OR MARGINALY STABLE')"
   ]
  },
  {
   "cell_type": "code",
   "execution_count": 3,
   "metadata": {},
   "outputs": [],
   "source": [
    "def make_table_routh(transfer_func):\n",
    "    transfer_order = len(transfer_func)-1\n",
    "    #izdelava tabele\n",
    "    routh_table = np.zeros((len(transfer_func), len(transfer_func)//2+(len(transfer_func)%2)))\n",
    "    \n",
    "    # insertion the transfer function in the Routh table\n",
    "    # odd places\n",
    "    if len(routh_table[0]) == len(transfer_func[::2]):\n",
    "        routh_table[0] = transfer_func[::2]\n",
    "    elif len(routh_table[0])-1 == len(transfer_func[::2]):\n",
    "        routh_table[0,:-1] = transfer_func[::2]\n",
    "    # even places\n",
    "    if len(routh_table[1]) == len(transfer_func[1::2]):\n",
    "        routh_table[1] = transfer_func[1::2]\n",
    "    elif len(routh_table[1])-1 == len(transfer_func[1::2]):\n",
    "        routh_table[1,:-1] = transfer_func[1::2]\n",
    "    # calculation of other elements of the Routh table\n",
    "    for i in range(len(routh_table[2:,:])):\n",
    "        i+=2\n",
    "        for j in range(len(routh_table[0,0:-1])):\n",
    "            routh_table[i,j] = (routh_table[i-1,0]*routh_table[i-2,j+1]-routh_table[i-2,0]*routh_table[i-1,j+1])/ routh_table[i-1,0]\n",
    "    # check stability\n",
    "    first_elements = [i for i in routh_table[:,0]]\n",
    "    sign = 110;\n",
    "    sign_prev = 110;\n",
    "    stability = True\n",
    "    marginally_stable = False;\n",
    "    for i in first_elements:\n",
    "        if i>0:\n",
    "            sign = True\n",
    "        elif i<0:\n",
    "            sign = False\n",
    "        else:\n",
    "            sign = None\n",
    "        # after first iteration skip the next steps\n",
    "        if sign_prev ==110:\n",
    "            sign_prev = sign\n",
    "            continue\n",
    "        # criteria\n",
    "        if sign != sign_prev or sign==None:\n",
    "            stability = False\n",
    "            if sign == None:\n",
    "                marginally_stable = True\n",
    "            break\n",
    "        # save current value\n",
    "        sign_prev = sign\n",
    "    # show results\n",
    "    print_routh(transfer_func, transfer_order, routh_table, stability, marginally_stable)"
   ]
  },
  {
   "cell_type": "code",
   "execution_count": 4,
   "metadata": {},
   "outputs": [
    {
     "name": "stdout",
     "output_type": "stream",
     "text": [
      "TRANSFER FUNCTION (DENOMINATOR):\n",
      "\n",
      " 1.00 s^8 +  2.00 s^7 +  3.00 s^6 +  4.00 s^5 + 23.00 s^4 +  1.00 s^3 +  2.00 s^2 +  0.00 s^1 +  1.00 s^0\n",
      "\n",
      "ROUTH TABLE:\n",
      "_________________________________________\n",
      "s^8:|  1.00|  3.00| 23.00|  2.00|  1.00\n",
      "_________________________________________\n",
      "s^7:|  2.00|  4.00|  1.00|  0.00|  0.00\n",
      "_________________________________________\n",
      "s^6:|  1.00| 22.50|  2.00|  1.00|  0.00\n",
      "_________________________________________\n",
      "s^5:|-41.00| -3.00| -2.00|  0.00|  0.00\n",
      "_________________________________________\n",
      "s^4:| 22.43|  1.95|  1.00|  0.00|  0.00\n",
      "_________________________________________\n",
      "s^3:|  0.57| -0.17|  0.00|  0.00|  0.00\n",
      "_________________________________________\n",
      "s^2:|  8.75|  1.00|  0.00|  0.00|  0.00\n",
      "_________________________________________\n",
      "s^1:| -0.24|  0.00|  0.00|  0.00|  0.00\n",
      "_________________________________________\n",
      "s^0:|  1.00|  0.00|  0.00|  0.00|  0.00\n",
      "_________________________________________\n",
      "\n",
      "X SYSTEM IS UNSTABLE\n"
     ]
    }
   ],
   "source": [
    "# Insert coefficients of the denominator of the transfer function:\n",
    "transfer_function_denom = [1, 2, 3, 4, 23, 1, 2, 0, 1]\n",
    "make_table_routh(transfer_function_denom)"
   ]
  },
  {
   "cell_type": "code",
   "execution_count": null,
   "metadata": {},
   "outputs": [],
   "source": []
  }
 ],
 "metadata": {
  "kernelspec": {
   "display_name": "Python 3",
   "language": "python",
   "name": "python3"
  },
  "language_info": {
   "codemirror_mode": {
    "name": "ipython",
    "version": 3
   },
   "file_extension": ".py",
   "mimetype": "text/x-python",
   "name": "python",
   "nbconvert_exporter": "python",
   "pygments_lexer": "ipython3",
   "version": "3.6.7"
  }
 },
 "nbformat": 4,
 "nbformat_minor": 2
}
