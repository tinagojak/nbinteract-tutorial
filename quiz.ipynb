{
 "cells": [
  {
   "cell_type": "code",
   "execution_count": 7,
   "metadata": {},
   "outputs": [],
   "source": [
    "# nbi:hide_in\n",
    "\n",
    "import ipywidgets as widgets\n",
    "import sys\n",
    "from IPython.display import display\n",
    "from IPython.display import clear_output\n"
   ]
  },
  {
   "cell_type": "code",
   "execution_count": 8,
   "metadata": {},
   "outputs": [],
   "source": [
    "# nbi:hide_in\n",
    "\n",
    "answers = []\n",
    "\n",
    "def create_multipleChoice_widget(description, options, correct_answer):\n",
    "    if correct_answer not in options:\n",
    "        options.append(correct_answer)\n",
    "    \n",
    "    correct_answer_index = options.index(correct_answer)\n",
    "    \n",
    "    radio_options = [(words, i) for i, words in enumerate(options)]\n",
    "    alternativ = widgets.RadioButtons(\n",
    "        options = radio_options,\n",
    "        description = '',\n",
    "        disabled = False\n",
    "    )\n",
    "    \n",
    "    description_out = widgets.Output()\n",
    "    with description_out:\n",
    "        print(description)\n",
    "        \n",
    "    feedback_out = widgets.Output()\n",
    "\n",
    "    def check_selection(b):\n",
    "        a = int(alternativ.value)\n",
    "        alternativ.disabled = True\n",
    "        if a==correct_answer_index:\n",
    "            s = '\\x1b[6;30;42m' + \"Correct.\" + '\\x1b[0m' +\"\\n\" #green color\n",
    "            answers.append(1)\n",
    "        else:\n",
    "            s = '\\x1b[5;30;41m' + \"False. \" + '\\x1b[0m' +\"\\n\" #red color\n",
    "            answers.append(0)\n",
    "        with feedback_out:\n",
    "            clear_output()\n",
    "            print(s)\n",
    "        return\n",
    "    \n",
    "    check = widgets.Button(description=\"submit\")\n",
    "    check.on_click(check_selection)\n",
    "    \n",
    "    \n",
    "    return widgets.VBox([description_out, alternativ, check, feedback_out])\n",
    "#     return widgets.VBox([description_out, alternativ])\n",
    "    "
   ]
  },
  {
   "cell_type": "markdown",
   "metadata": {},
   "source": [
    "### Questions:"
   ]
  },
  {
   "cell_type": "code",
   "execution_count": 9,
   "metadata": {},
   "outputs": [],
   "source": [
    "# nbi:hide_in\n",
    "Q1 = create_multipleChoice_widget('2^2',['2','4','6'],'4')\n",
    "Q2 = create_multipleChoice_widget('sqrt(2)',['1.41','1.61','1.77'],'1.41')\n",
    "Q3 = create_multipleChoice_widget('3*4',['10','12','13'],'12')"
   ]
  },
  {
   "cell_type": "code",
   "execution_count": 10,
   "metadata": {},
   "outputs": [
    {
     "data": {
      "application/vnd.jupyter.widget-view+json": {
       "model_id": "d3498c1a80d441599d07071ec77ed17a",
       "version_major": 2,
       "version_minor": 0
      },
      "text/plain": [
       "VBox(children=(Output(outputs=({'output_type': 'stream', 'text': '2^2\\n', 'name': 'stdout'},)), RadioButtons(o…"
      ]
     },
     "metadata": {},
     "output_type": "display_data"
    },
    {
     "data": {
      "application/vnd.jupyter.widget-view+json": {
       "model_id": "4a6fb5cb0d9f44bba8fbdc043120e315",
       "version_major": 2,
       "version_minor": 0
      },
      "text/plain": [
       "VBox(children=(Output(outputs=({'output_type': 'stream', 'text': 'sqrt(2)\\n', 'name': 'stdout'},)), RadioButto…"
      ]
     },
     "metadata": {},
     "output_type": "display_data"
    },
    {
     "data": {
      "application/vnd.jupyter.widget-view+json": {
       "model_id": "9659587a98cb43998970b5921515cced",
       "version_major": 2,
       "version_minor": 0
      },
      "text/plain": [
       "VBox(children=(Output(outputs=({'output_type': 'stream', 'text': '3*4\\n', 'name': 'stdout'},)), RadioButtons(o…"
      ]
     },
     "metadata": {},
     "output_type": "display_data"
    }
   ],
   "source": [
    "# nbi:hide_in\n",
    "display(Q1)\n",
    "display(Q2)\n",
    "display(Q3)"
   ]
  },
  {
   "cell_type": "markdown",
   "metadata": {},
   "source": [
    "### Your results:"
   ]
  },
  {
   "cell_type": "code",
   "execution_count": 11,
   "metadata": {},
   "outputs": [
    {
     "data": {
      "application/vnd.jupyter.widget-view+json": {
       "model_id": "e0a6e9f9ee324a2d9ee0ed313b871a8b",
       "version_major": 2,
       "version_minor": 0
      },
      "text/plain": [
       "Button(description='Check result', style=ButtonStyle())"
      ]
     },
     "metadata": {},
     "output_type": "display_data"
    }
   ],
   "source": [
    "# nbi:hide_in\n",
    "def get_result(e):\n",
    "    result = str(answers.count(1)) + '/' + str(len(answers))\n",
    "    print('Your result: ', result)\n",
    "\n",
    "result_button = widgets.Button(description=\"Check result\")\n",
    "result_button.on_click(get_result)\n",
    "\n",
    "\n",
    "result_button\n"
   ]
  },
  {
   "cell_type": "code",
   "execution_count": 12,
   "metadata": {},
   "outputs": [],
   "source": [
    "# nbi:hide_in"
   ]
  },
  {
   "cell_type": "code",
   "execution_count": 13,
   "metadata": {},
   "outputs": [],
   "source": [
    "# nbi:hide_in"
   ]
  },
  {
   "cell_type": "code",
   "execution_count": null,
   "metadata": {},
   "outputs": [],
   "source": [
    "# nbi:hide_in"
   ]
  }
 ],
 "metadata": {
  "kernelspec": {
   "display_name": "Python 3",
   "language": "python",
   "name": "python3"
  },
  "language_info": {
   "codemirror_mode": {
    "name": "ipython",
    "version": 3
   },
   "file_extension": ".py",
   "mimetype": "text/x-python",
   "name": "python",
   "nbconvert_exporter": "python",
   "pygments_lexer": "ipython3",
   "version": "3.6.7"
  }
 },
 "nbformat": 4,
 "nbformat_minor": 2
}
